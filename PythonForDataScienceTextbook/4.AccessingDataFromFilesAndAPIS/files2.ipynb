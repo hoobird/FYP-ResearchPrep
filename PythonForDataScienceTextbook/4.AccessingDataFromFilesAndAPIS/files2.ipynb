{
 "cells": [
  {
   "cell_type": "markdown",
   "metadata": {},
   "source": [
    "### Exporting Data to Files\n"
   ]
  },
  {
   "cell_type": "code",
   "execution_count": 4,
   "metadata": {},
   "outputs": [
    {
     "name": "stdout",
     "output_type": "stream",
     "text": [
      "[{'Year': '1997', 'Make': 'Ford', 'Model': 'E350', 'Price': '3200.00'}, {'Year': '1999', 'Make': 'Chevy', 'Model': 'Venture', 'Price': '4800.00'}, {'Year': '1996', 'Make': 'Jeep', 'Model': 'Grand Cherokee', 'Price': '4900.00'}]\n"
     ]
    }
   ],
   "source": [
    "import csv\n",
    "path = \"./csvfiles/cars.csv\"\n",
    "with open(path, \"r\") as csv_file:\n",
    "    csv_reader = csv.DictReader(csv_file)\n",
    "    cars = []\n",
    "    for row in csv_reader:\n",
    "        cars.append(dict(row))\n",
    "print(cars)"
   ]
  },
  {
   "cell_type": "code",
   "execution_count": 5,
   "metadata": {},
   "outputs": [
    {
     "name": "stdout",
     "output_type": "stream",
     "text": [
      "['1997', 'Ford', 'E350', '3200.00']\n",
      "['1999', 'Chevy', 'Venture', '4800.00']\n",
      "['1996', 'Jeep', 'Grand Cherokee', '4900.00']\n"
     ]
    }
   ],
   "source": [
    "for row in cars:\n",
    "    print(list(row.values()))"
   ]
  },
  {
   "cell_type": "code",
   "execution_count": 7,
   "metadata": {},
   "outputs": [],
   "source": [
    "to_update = ['1999', 'Chevy', 'Venture']\n",
    "new_price = \"4500.00\"\n",
    "with open(\"./csvfiles/cars2.csv\", 'w') as csvfile:\n",
    "    fieldnames = cars[0].keys()\n",
    "    writer = csv.DictWriter(csvfile, fieldnames=fieldnames)\n",
    "    writer.writeheader()\n",
    "    for row in cars:\n",
    "        if set(to_update).issubset(set(row.values())):\n",
    "            row[\"Price\"] = new_price\n",
    "        writer.writerow(row)"
   ]
  },
  {
   "cell_type": "markdown",
   "metadata": {},
   "source": [
    "### Accessing Remote Files and APIs"
   ]
  },
  {
   "cell_type": "code",
   "execution_count": 8,
   "metadata": {},
   "outputs": [
    {
     "data": {
      "text/plain": [
       "<Response [200]>"
      ]
     },
     "execution_count": 8,
     "metadata": {},
     "output_type": "execute_result"
    }
   ],
   "source": [
    "import requests\n",
    "PARAMS = {'bibkeys':'ISBN:1718500521', 'format':'json'}\n",
    "requests.get('http://openlibrary.org/api/books', params = PARAMS)"
   ]
  },
  {
   "cell_type": "code",
   "execution_count": 10,
   "metadata": {},
   "outputs": [
    {
     "name": "stdout",
     "output_type": "stream",
     "text": [
      "Line 0:  Today, robots can talk to humans using natural language, and they’re getting smarter. Even so, very few people understand how these robots work or how they might use these technologies in their own projects.\n",
      "Line 2:  Natural language processing (NLP) – a branch of artificial intelligence that helps machines understand and respond to human language – is the key technology that lies at the heart of any digital assistant product.\n"
     ]
    }
   ],
   "source": [
    "# urllib3 is a URL-handling library that lets you access and manipulate URL-accessible resources such as HTTP APIs, websites, and files. \n",
    "# The library is designed to efficiently manipulate HTTP requests, using thread-safe connection pooling to minimize the resources needed on your server’s end.\n",
    "import urllib3\n",
    "http = urllib3.PoolManager()\n",
    "r = http.request(\"GET\", \"https://raw.githubusercontent.com/pythondatabook/sources/main/ch4/excerpt.txt\")\n",
    "for i, line in enumerate(r.data.decode('utf-8').split(\"\\n\")):\n",
    "    if line.strip():\n",
    "        print(\"Line %i: \" %i , line.strip() )"
   ]
  },
  {
   "cell_type": "code",
   "execution_count": 12,
   "metadata": {},
   "outputs": [
    {
     "name": "stdout",
     "output_type": "stream",
     "text": [
      "Python consumes 38x more energy than Java\n",
      "2023-07-13T10:00:10Z\n",
      "https://stratoflow.com/efficient-and-environment-friendly-programming-languages/\n",
      "\n",
      "Ask HN: Why aren't modern programming languages, like Rust, more legible?\n",
      "2023-07-02T06:21:05Z\n",
      "https://news.ycombinator.com/item?id=36558794\n",
      "\n",
      "What Is Semantic Kernel?\n",
      "2023-06-24T21:37:04Z\n",
      "https://learn.microsoft.com/en-us/semantic-kernel/overview/\n",
      "\n",
      "How can we compare expressive power between two Turing-complete languages?\n",
      "2023-07-05T09:31:15Z\n",
      "https://langdev.stackexchange.com/questions/2015/how-can-we-compare-expressive-power-between-two-turing-complete-languages\n",
      "\n",
      "Compilers for the Future\n",
      "2023-06-20T11:15:21Z\n",
      "https://adam-mcdaniel-blog.github.io/compilers-for-the-future/\n",
      "\n"
     ]
    }
   ],
   "source": [
    "# API Requests with urllib3\n",
    "# https://newsapi.org/\n",
    "import json\n",
    "import urllib3\n",
    "http = urllib3.PoolManager()\n",
    "r = http.request('GET', 'https://newsapi.org/v2/everything?q=Python programming language&apiKey=c75a43f75e03424594fb07524e1b90ee&pageSize=5')\n",
    "articles = json.loads(r.data.decode(\"utf-8\"))\n",
    "for article in articles[\"articles\"]:\n",
    "    print(article[\"title\"])\n",
    "    print(article[\"publishedAt\"])\n",
    "    print(article[\"url\"])\n",
    "    print()"
   ]
  },
  {
   "cell_type": "code",
   "execution_count": 15,
   "metadata": {},
   "outputs": [
    {
     "name": "stdout",
     "output_type": "stream",
     "text": [
      "Blinken, Singapore foreign minister share pessimism on situation in ... - Reuters.com\n",
      "2023-06-16T18:41:00Z\n",
      "https://consent.google.com/ml?continue=https://news.google.com/rss/articles/CBMibmh0dHBzOi8vd3d3LnJldXRlcnMuY29tL3dvcmxkL2JsaW5rZW4tc2luZ2Fwb3JlLWZvcmVpZ24tbWluaXN0ZXItc2hhcmUtcGVzc2ltaXNtLXNpdHVhdGlvbi1teWFubWFyLTIwMjMtMDYtMTYv0gEA?oc%3D5&gl=FR&hl=en-US&cm=2&pc=n&src=1\n",
      "\n",
      "Singapore fines DBS, Citibank, OCBC, Swiss Life for inadequate ... - Reuters.com\n",
      "2023-06-21T10:15:12Z\n",
      "https://consent.google.com/ml?continue=https://news.google.com/rss/articles/CBMifWh0dHBzOi8vd3d3LnJldXRlcnMuY29tL2J1c2luZXNzL2ZpbmFuY2Uvc2luZ2Fwb3JlLWZpbmVzLWRicy1jaXRpYmFuay1vY2JjLXN3aXNzLWxpZmUtaW5hZGVxdWF0ZS1tb25leS1sYXVuZGVyaW5nLTIwMjMtMDYtMjEv0gEA?oc%3D5&gl=FR&hl=en-US&cm=2&pc=n&src=1\n",
      "\n",
      "Top Singapore ministers cleared after probe into plush properties - Reuters\n",
      "2023-06-28T12:34:00Z\n",
      "https://consent.google.com/ml?continue=https://news.google.com/rss/articles/CBMieGh0dHBzOi8vd3d3LnJldXRlcnMuY29tL3dvcmxkL2FzaWEtcGFjaWZpYy90b3Atc2luZ2Fwb3JlLW1pbmlzdGVycy1jbGVhcmVkLWFmdGVyLXByb2JlLWludG8tcGx1c2gtcHJvcGVydGllcy0yMDIzLTA2LTI4L9IBAA?oc%3D5&gl=FR&hl=en-US&cm=2&pc=n&src=1\n",
      "\n",
      "Singapore May core inflation rises 4.7% y/y, matches forecast - Reuters.com\n",
      "2023-06-23T05:06:30Z\n",
      "https://consent.google.com/ml?continue=https://news.google.com/rss/articles/CBMiZ2h0dHBzOi8vd3d3LnJldXRlcnMuY29tL21hcmtldHMvYXNpYS9zaW5nYXBvcmUtbWF5LWNvcmUtaW5mbGF0aW9uLXJpc2VzLTQ3LW1hdGNoZXMtZm9yZWNhc3QtMjAyMy0wNi0yMy_SAQA?oc%3D5&gl=FR&hl=en-US&cm=2&pc=n&src=1\n",
      "\n",
      "Temasek sells 1.85% stake in Singapore Airlines, remains top investor - Reuters\n",
      "2023-06-28T12:10:00Z\n",
      "https://consent.google.com/ml?continue=https://news.google.com/rss/articles/CBMifmh0dHBzOi8vd3d3LnJldXRlcnMuY29tL2J1c2luZXNzL2Flcm9zcGFjZS1kZWZlbnNlL3RlbWFzZWstc2VsbHMtMTg1LXN0YWtlLXNpbmdhcG9yZS1haXJsaW5lcy1yZW1haW5zLXRvcC1pbnZlc3Rvci0yMDIzLTA2LTI4L9IBAA?oc%3D5&gl=FR&hl=en-US&cm=2&pc=n&src=1\n",
      "\n"
     ]
    }
   ],
   "source": [
    "query = \"Singapore\"\n",
    "r = http.request('GET', f'https://newsapi.org/v2/everything?q={query}&apiKey=c75a43f75e03424594fb07524e1b90ee&pageSize=5')\n",
    "articles = json.loads(r.data.decode(\"utf-8\"))\n",
    "for article in articles[\"articles\"]:\n",
    "    print(article[\"title\"])\n",
    "    print(article[\"publishedAt\"])\n",
    "    print(article[\"url\"])\n",
    "    print()"
   ]
  },
  {
   "cell_type": "code",
   "execution_count": 18,
   "metadata": {},
   "outputs": [
    {
     "name": "stdout",
     "output_type": "stream",
     "text": [
      "Harry Maguire stripped of Man United captaincy by Ten Hag - ESPN - ESPN\n",
      "2023-07-16T16:09:38Z\n",
      "https://news.google.com/rss/articles/CBMiZmh0dHBzOi8vd3d3LmVzcG4uY29tLnNnL3NvY2Nlci9zdG9yeS9fL2lkLzM4MDIwMTI4L2hhcnJ5LW1hZ3VpcmUtc3RyaXBwZWQtbWFuLXVuaXRlZC1jYXB0YWluY3ktdGVuLWhhZ9IBc2h0dHBzOi8vd3d3LmVzcG4uY29tLnNnL3NvY2Nlci9zdG9yeS9fL2lkLzM4MDIwMTI4L2hhcnJ5LW1hZ3VpcmUtc3RyaXBwZWQtbWFuLXVuaXRlZC1jYXB0YWluY3ktdGVuLWhhZz9wbGF0Zm9ybT1hbXA?oc=5\n",
      "\n",
      "China's response not encouraging on G20 common framework for debt: Report - CNA\n",
      "2023-07-16T15:27:28Z\n",
      "https://news.google.com/rss/articles/CBMicWh0dHBzOi8vd3d3LmNoYW5uZWxuZXdzYXNpYS5jb20vYnVzaW5lc3MvY2hpbmFzLXJlc3BvbnNlLW5vdC1lbmNvdXJhZ2luZy1nMjAtY29tbW9uLWZyYW1ld29yay1kZWJ0LXJlcG9ydC0zNjMyNjM20gEA?oc=5\n",
      "\n",
      "Life pressure can increase the risk of Multiple Sclerosis | Signs to watch out - Hindustan Times\n",
      "2023-07-16T14:38:27Z\n",
      "https://www.hindustantimes.com/lifestyle/health/life-pressure-can-increase-the-risk-of-multiple-sclerosis-watch-out-for-these-signs-check-these-prevention-tips-101689517529946.html\n",
      "\n",
      "Putin says Russia has stockpiled cluster bombs and will use them in Ukraine if it has to - CNA\n",
      "2023-07-16T14:36:17Z\n",
      "https://news.google.com/rss/articles/CBMiXmh0dHBzOi8vd3d3LmNoYW5uZWxuZXdzYXNpYS5jb20vd29ybGQvcnVzc2lhLXN0b2NrcGlsZWQtY2x1c3Rlci1ib21icy11a3JhaW5lLXdpbGwtdXNlLTM2MzI2MTbSAQA?oc=5\n",
      "\n",
      "SpaceX launches 54 more Starlink satellites into space - CGTN\n",
      "2023-07-16T14:35:22Z\n",
      "https://news.cgtn.com/news/2023-07-16/SpaceX-launches-54-more-Starlink-satellites-into-space-1luC7Rb8k0w/index.html\n",
      "\n"
     ]
    }
   ],
   "source": [
    "r = http.request('GET', f'https://newsapi.org/v2/top-headlines?country=sg&apiKey=c75a43f75e03424594fb07524e1b90ee&pageSize=5')\n",
    "articles = json.loads(r.data.decode(\"utf-8\"))\n",
    "for article in articles[\"articles\"]:\n",
    "    print(article[\"title\"])\n",
    "    print(article[\"publishedAt\"])\n",
    "    print(article[\"url\"])\n",
    "    print()"
   ]
  },
  {
   "cell_type": "code",
   "execution_count": 19,
   "metadata": {},
   "outputs": [
    {
     "name": "stdout",
     "output_type": "stream",
     "text": [
      "Line 0:  Today, robots can talk to humans using natural language, and they’re getting smarter. Even so, very few people understand how these robots work or how they might use these technologies in their own projects.\n",
      "Line 2:  Natural language processing (NLP) – a branch of artificial intelligence that helps machines understand and respond to human language – is the key technology that lies at the heart of any digital assistant product.\n"
     ]
    }
   ],
   "source": [
    "# Requests is another popular URL-handling library that allows you to easily send HTTP requests. \n",
    "# Requests uses urllib3 under the hood and makes it even easier to make requests and retrieve data.\n",
    "\n",
    "import requests\n",
    "r = requests.get(\"https://raw.githubusercontent.com/pythondatabook/sources/main/ch4/excerpt.txt\")\n",
    "for i, line in enumerate(r.text.split('\\n')):  \n",
    "    if line.strip():\n",
    "        print(\"Line %i: \" %(i), line.strip())"
   ]
  },
  {
   "cell_type": "code",
   "execution_count": 20,
   "metadata": {},
   "outputs": [
    {
     "name": "stdout",
     "output_type": "stream",
     "text": [
      "Python consumes 38x more energy than Java\n",
      "2023-07-13T10:00:10Z\n",
      "https://stratoflow.com/efficient-and-environment-friendly-programming-languages/\n",
      "\n",
      "Ask HN: Why aren't modern programming languages, like Rust, more legible?\n",
      "2023-07-02T06:21:05Z\n",
      "https://news.ycombinator.com/item?id=36558794\n",
      "\n",
      "What Is Semantic Kernel?\n",
      "2023-06-24T21:37:04Z\n",
      "https://learn.microsoft.com/en-us/semantic-kernel/overview/\n",
      "\n",
      "How can we compare expressive power between two Turing-complete languages?\n",
      "2023-07-05T09:31:15Z\n",
      "https://langdev.stackexchange.com/questions/2015/how-can-we-compare-expressive-power-between-two-turing-complete-languages\n",
      "\n",
      "Compilers for the Future\n",
      "2023-06-20T11:15:21Z\n",
      "https://adam-mcdaniel-blog.github.io/compilers-for-the-future/\n",
      "\n"
     ]
    }
   ],
   "source": [
    "# exercise 6\n",
    "\n",
    "import requests\n",
    "import json\n",
    "params = {\n",
    "    'q': 'Python programming language',\n",
    "    'apiKey': 'c75a43f75e03424594fb07524e1b90ee',\n",
    "    'pageSize': 5}\n",
    "r = requests.get('https://newsapi.org/v2/everything', params)\n",
    "articles = json.loads(r.text)\n",
    "for article in articles['articles']:\n",
    "    print(article['title'])\n",
    "    print(article['publishedAt'])\n",
    "    print(article['url'])\n",
    "    print()"
   ]
  },
  {
   "cell_type": "code",
   "execution_count": null,
   "metadata": {},
   "outputs": [],
   "source": []
  }
 ],
 "metadata": {
  "kernelspec": {
   "display_name": "Python 3",
   "language": "python",
   "name": "python3"
  },
  "language_info": {
   "codemirror_mode": {
    "name": "ipython",
    "version": 3
   },
   "file_extension": ".py",
   "mimetype": "text/x-python",
   "name": "python",
   "nbconvert_exporter": "python",
   "pygments_lexer": "ipython3",
   "version": "3.11.0"
  },
  "orig_nbformat": 4
 },
 "nbformat": 4,
 "nbformat_minor": 2
}
