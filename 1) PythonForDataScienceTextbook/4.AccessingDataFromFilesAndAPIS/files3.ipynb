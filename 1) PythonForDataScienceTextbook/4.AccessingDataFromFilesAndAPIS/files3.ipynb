{
 "cells": [
  {
   "cell_type": "markdown",
   "metadata": {},
   "source": [
    "### Moving Data to and from a DataFrame"
   ]
  },
  {
   "cell_type": "code",
   "execution_count": 1,
   "metadata": {},
   "outputs": [],
   "source": [
    "# Importing Nested JSON Structures\n",
    "\n",
    "data = [\n",
    "    {\n",
    "        \"Emp\":\"Jeff Russell\",\n",
    "        \"POs\":\n",
    "        [\n",
    "            {\"Pono\":2608,\"Total\":35},\n",
    "            {\"Pono\":2617,\"Total\":35},\n",
    "            {\"Pono\":2620,\"Total\":139}\n",
    "        ]\n",
    "    },\n",
    "    {\n",
    "        \"Emp\":\"Jane Boorman\",\n",
    "        \"POs\":\n",
    "        [\n",
    "            {\"Pono\":2621,\"Total\":95},\n",
    "            {\"Pono\":2626,\"Total\":218}\n",
    "        ]\n",
    "    }\n",
    "]"
   ]
  },
  {
   "cell_type": "code",
   "execution_count": 2,
   "metadata": {},
   "outputs": [
    {
     "name": "stdout",
     "output_type": "stream",
     "text": [
      "                   Total\n",
      "Emp          Pono       \n",
      "Jeff Russell 2608     35\n",
      "             2617     35\n",
      "             2620    139\n",
      "Jane Boorman 2621     95\n",
      "             2626    218\n"
     ]
    }
   ],
   "source": [
    "# each entry in the JSON document begins with a simple-structured key-value pair with the key Emp, followed by a nested structure with the key POs.\n",
    "# convert that hierarchical JSON structure into a tabular pandas DataFrame using the pandas library’s json_normalize() reader method, \n",
    "#   which takes a nested structure and flattens, or normalizes, it into a simple table.\n",
    "import json\n",
    "import pandas as pd\n",
    "df = pd.json_normalize(data, \"POs\", \"Emp\").set_index([\"Emp\",\"Pono\"])\n",
    "print(df)"
   ]
  },
  {
   "cell_type": "code",
   "execution_count": 6,
   "metadata": {},
   "outputs": [],
   "source": [
    "# Converting a DataFrame to JSON\n",
    "df = df.reset_index()\n",
    "json_doc = (df.groupby(['Emp'], as_index=True)\n",
    "            .apply(lambda x: x[['Pono','Total']].to_dict('records'))\n",
    "            .reset_index()\n",
    "            .rename(columns={0:'POs'})\n",
    "            .to_json(orient=\"records\"))"
   ]
  },
  {
   "cell_type": "code",
   "execution_count": 4,
   "metadata": {},
   "outputs": [
    {
     "name": "stdout",
     "output_type": "stream",
     "text": [
      "[\n",
      "  {\n",
      "    \"Emp\": \"Jane Boorman\",\n",
      "    \"POs\": [\n",
      "      {\n",
      "        \"Pono\": 2621,\n",
      "        \"Total\": 95\n",
      "      },\n",
      "      {\n",
      "        \"Pono\": 2626,\n",
      "        \"Total\": 218\n",
      "      }\n",
      "    ]\n",
      "  },\n",
      "  {\n",
      "    \"Emp\": \"Jeff Russell\",\n",
      "    \"POs\": [\n",
      "      {\n",
      "        \"Pono\": 2608,\n",
      "        \"Total\": 35\n",
      "      },\n",
      "      {\n",
      "        \"Pono\": 2617,\n",
      "        \"Total\": 35\n",
      "      },\n",
      "      {\n",
      "        \"Pono\": 2620,\n",
      "        \"Total\": 139\n",
      "      }\n",
      "    ]\n",
      "  }\n",
      "]\n"
     ]
    }
   ],
   "source": [
    "print(json.dumps(json.loads(json_doc), indent=2))"
   ]
  },
  {
   "cell_type": "markdown",
   "metadata": {},
   "source": [
    "### Several third-party libraries come with pandas-compatible reader methods for accessing data from a variety of online sources, such as Quandl (https://data.nasdaq.com) and Stooq (https://stooq.com). \n",
    "### The most popular of these is pandas-datareader."
   ]
  },
  {
   "cell_type": "code",
   "execution_count": 8,
   "metadata": {},
   "outputs": [
    {
     "name": "stdout",
     "output_type": "stream",
     "text": [
      "['AVForexReader', 'AVQuotesReader', 'AVSectorPerformanceReader', 'AVTimeSeriesReader', 'BankOfCanadaReader', 'DEP_ERROR_MSG', 'DataReader', 'EcondbReader', 'EnigmaReader', 'EurostatReader', 'FamaFrenchReader', 'FredReader', 'IEXDailyReader', 'IEXDeep', 'IEXLasts', 'IEXTops', 'ImmediateDeprecationError', 'MoexReader', 'NaverDailyReader', 'OECDReader', 'Options', 'QuandlReader', 'StooqDailyReader', 'TiingoDailyReader', 'TiingoIEXHistoricalReader', 'TiingoQuoteReader', 'YahooActionReader', 'YahooDailyReader', 'YahooDivReader', 'YahooOptions', 'YahooQuotesReader', '__all__', '__builtins__', '__cached__', '__doc__', '__file__', '__loader__', '__name__', '__package__', '__spec__', 'deprecate_kwarg', 'get_components_yahoo', 'get_dailysummary_iex', 'get_data_alphavantage', 'get_data_enigma', 'get_data_famafrench', 'get_data_fred', 'get_data_moex', 'get_data_quandl', 'get_data_stooq', 'get_data_tiingo', 'get_data_yahoo', 'get_data_yahoo_actions', 'get_exchange_rate_av', 'get_iex_book', 'get_iex_data_tiingo', 'get_iex_symbols', 'get_last_iex', 'get_markets_iex', 'get_nasdaq_symbols', 'get_quote_av', 'get_quote_yahoo', 'get_quotes_tiingo', 'get_recent_iex', 'get_records_iex', 'get_sector_performance_av', 'get_summary_iex', 'get_tops_iex', 'warnings']\n"
     ]
    }
   ],
   "source": [
    "import pandas_datareader.data as pdr\n",
    "# For descriptions of the library’s reader methods, consult the pandas-datareader documentation at \n",
    "#   https://pandas-datareader.readthedocs.io/en/latest/remote_data.html. \n",
    "# You can also print a list of the available methods with Python’s dir() function:\n",
    "print(dir(pdr))"
   ]
  },
  {
   "cell_type": "code",
   "execution_count": 10,
   "metadata": {},
   "outputs": [
    {
     "name": "stdout",
     "output_type": "stream",
     "text": [
      "               Open     High      Low    Close      Volume\n",
      "Date                                                      \n",
      "2022-01-10  4655.34  4673.02  4582.24  4670.29  2668776356\n",
      "2022-01-07  4697.66  4707.95  4662.74  4677.03  2414328227\n",
      "2022-01-06  4693.39  4725.01  4671.26  4696.05  2389339330\n",
      "2022-01-05  4787.99  4797.70  4699.44  4700.58  2810603586\n",
      "2022-01-04  4804.51  4818.62  4774.27  4793.54  2841121018\n",
      "2022-01-03  4778.14  4796.64  4758.17  4796.56  2241373299\n"
     ]
    }
   ],
   "source": [
    "# Obtaining Data from Stooq\n",
    "import pandas_datareader.data as pdr\n",
    "spx_index = pdr.get_data_stooq('^SPX', '2022-01-03', '2022-01-10')\n",
    "print(spx_index)\n",
    "\n",
    "# The get_data_stooq() method obtains data from Stooq, a free site that provides information on a number of market indexes. \n",
    "# Pass in the ticker of the market index you want as the first parameter. \n",
    "# The available options can be found at https://stooq.com/t."
   ]
  },
  {
   "cell_type": "code",
   "execution_count": null,
   "metadata": {},
   "outputs": [],
   "source": []
  }
 ],
 "metadata": {
  "kernelspec": {
   "display_name": "Python 3",
   "language": "python",
   "name": "python3"
  },
  "language_info": {
   "codemirror_mode": {
    "name": "ipython",
    "version": 3
   },
   "file_extension": ".py",
   "mimetype": "text/x-python",
   "name": "python",
   "nbconvert_exporter": "python",
   "pygments_lexer": "ipython3",
   "version": "3.11.0"
  },
  "orig_nbformat": 4
 },
 "nbformat": 4,
 "nbformat_minor": 2
}
