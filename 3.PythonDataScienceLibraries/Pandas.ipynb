{
 "cells": [
  {
   "cell_type": "markdown",
   "metadata": {},
   "source": [
    "### Pandas mean Python Data Analysis Library\n",
    "\n",
    "### The library includes two data structures: the Series, which is 1D, and the DataFrame, which is 2D. \n",
    "### While the DataFrame is the primary pandas data structure, a DataFrame is actually a collection of Series objects. \n",
    "### Therefore, it’s important to understand Series as well as DataFrames."
   ]
  },
  {
   "cell_type": "code",
   "execution_count": 13,
   "metadata": {},
   "outputs": [],
   "source": [
    "import pandas as pd"
   ]
  },
  {
   "cell_type": "code",
   "execution_count": 14,
   "metadata": {},
   "outputs": [
    {
     "name": "stdout",
     "output_type": "stream",
     "text": [
      "0     Bob\n",
      "1    Jack\n",
      "2     Amy\n",
      "dtype: object\n"
     ]
    }
   ],
   "source": [
    "# Creating a Series (1D)\n",
    "data = [\"Bob\", \"Jack\", \"Amy\"]\n",
    "emps_names = pd.Series(data)\n",
    "print(emps_names)"
   ]
  },
  {
   "cell_type": "code",
   "execution_count": 28,
   "metadata": {},
   "outputs": [
    {
     "name": "stdout",
     "output_type": "stream",
     "text": [
      "100     Bob\n",
      "200    Jack\n",
      "abc     Amy\n",
      "dtype: object\n"
     ]
    }
   ],
   "source": [
    "# Creating a Series with user-defined indices (can be string or int like Dictionary)\n",
    "emps_names1 = pd.Series(data, index = [100, 200, \"abc\"])\n",
    "print(emps_names1)"
   ]
  },
  {
   "cell_type": "markdown",
   "metadata": {},
   "source": [
    "Accessing Data in Series"
   ]
  },
  {
   "cell_type": "code",
   "execution_count": 22,
   "metadata": {},
   "outputs": [
    {
     "name": "stdout",
     "output_type": "stream",
     "text": [
      "Amy\n",
      "Jack\n"
     ]
    }
   ],
   "source": [
    "print(emps_names1[\"abc\"])\n",
    "print(emps_names1[200])"
   ]
  },
  {
   "cell_type": "code",
   "execution_count": 23,
   "metadata": {},
   "outputs": [
    {
     "name": "stdout",
     "output_type": "stream",
     "text": [
      "Amy\n",
      "Jack\n"
     ]
    }
   ],
   "source": [
    "# also can use loc[] to retrieve data using defined index\n",
    "print(emps_names1.loc[\"abc\"])\n",
    "print(emps_names1.loc[200])"
   ]
  },
  {
   "cell_type": "code",
   "execution_count": 24,
   "metadata": {},
   "outputs": [
    {
     "name": "stdout",
     "output_type": "stream",
     "text": [
      "Amy\n",
      "Jack\n"
     ]
    }
   ],
   "source": [
    "# Use iloc for location based indexing, the usual index for list\n",
    "print(emps_names1.iloc[2])\n",
    "print(emps_names1.iloc[1])"
   ]
  },
  {
   "cell_type": "code",
   "execution_count": 30,
   "metadata": {},
   "outputs": [
    {
     "name": "stdout",
     "output_type": "stream",
     "text": [
      "100     Bob\n",
      "200    Jack\n",
      "dtype: object\n"
     ]
    }
   ],
   "source": [
    "# slicing also possible\n",
    "print(emps_names1.loc[100:200])"
   ]
  },
  {
   "cell_type": "code",
   "execution_count": 34,
   "metadata": {},
   "outputs": [
    {
     "name": "stdout",
     "output_type": "stream",
     "text": [
      "100     Bob\n",
      "200    Jack\n",
      "dtype: object\n",
      "100     Bob\n",
      "200    Jack\n",
      "dtype: object\n"
     ]
    }
   ],
   "source": [
    "print(emps_names1.iloc[0:2]) \n",
    "\n",
    "# same as \n",
    "print(emps_names1[0:2])"
   ]
  },
  {
   "cell_type": "code",
   "execution_count": 50,
   "metadata": {},
   "outputs": [
    {
     "name": "stdout",
     "output_type": "stream",
     "text": [
      "['bob.lee@yahoo.com', 'jack.loh@gmail.com', 'amy.tan@yahoo.com']\n",
      "\n",
      "    names              emails\n",
      "100   Bob   bob.lee@yahoo.com\n",
      "200  Jack  jack.loh@gmail.com\n",
      "abc   Amy   amy.tan@yahoo.com\n"
     ]
    }
   ],
   "source": [
    "# combining Series into DataFrame\n",
    "import random\n",
    "data = ['bob.lee','jack.loh','amy.tan']\n",
    "email = [\"gmail.com\", \"yahoo.com\"]\n",
    "for i in range(len(data)):\n",
    "    data[i] = (f\"{data[i]}@{random.choice(email)}\")\n",
    "print(data)\n",
    "print()\n",
    "emps_emails = pd.Series(data, index = [100, 200, \"abc\"], name = \"emails\")\n",
    "emps_names1.name = \"names\"\n",
    "df = pd.concat([emps_names1,emps_emails], axis=1)\n",
    "print(df)\n"
   ]
  },
  {
   "cell_type": "code",
   "execution_count": 63,
   "metadata": {},
   "outputs": [
    {
     "name": "stdout",
     "output_type": "stream",
     "text": [
      "                       Date        Open        High         Low       Close  \\\n",
      "0 2023-07-10 00:00:00-04:00  276.470001  277.519989  265.100006  269.609985   \n",
      "1 2023-07-11 00:00:00-04:00  268.649994  270.899994  266.369995  269.790009   \n",
      "2 2023-07-12 00:00:00-04:00  276.329987  276.519989  271.459991  271.989990   \n",
      "3 2023-07-13 00:00:00-04:00  274.589996  279.450012  270.600006  277.899994   \n",
      "4 2023-07-14 00:00:00-04:00  277.010010  285.299988  276.309998  281.380005   \n",
      "\n",
      "      Volume  \n",
      "0  119425400  \n",
      "1   91972400  \n",
      "2   95672100  \n",
      "3  112681500  \n",
      "4  119771100  \n"
     ]
    }
   ],
   "source": [
    "# pandas allows you to have DataFrame indexes of any type.\n",
    "#  You can also create a DataFrame by loading data from a database, a CSV file, an API request, \n",
    "# or another external source using one of the pandas library’s reader methods\n",
    "# can read JSON, excel into DataFrame\n",
    "\n",
    "import yfinance as yf\n",
    "tkr = yf.Ticker('TSLA')\n",
    "hist = tkr.history(period=\"5d\") # already in DataFrame format\n",
    "hist = hist.drop(\"Dividends\", axis = 1)\n",
    "hist = hist.drop(\"Stock Splits\", axis = 1)\n",
    "hist = hist.reset_index() # give each row an index\n",
    "print(hist)\n"
   ]
  },
  {
   "cell_type": "code",
   "execution_count": 64,
   "metadata": {},
   "outputs": [
    {
     "name": "stdout",
     "output_type": "stream",
     "text": [
      "                                 Open        High         Low       Close  \\\n",
      "Date                                                                        \n",
      "2023-07-10 00:00:00-04:00  276.470001  277.519989  265.100006  269.609985   \n",
      "2023-07-11 00:00:00-04:00  268.649994  270.899994  266.369995  269.790009   \n",
      "2023-07-12 00:00:00-04:00  276.329987  276.519989  271.459991  271.989990   \n",
      "2023-07-13 00:00:00-04:00  274.589996  279.450012  270.600006  277.899994   \n",
      "2023-07-14 00:00:00-04:00  277.010010  285.299988  276.309998  281.380005   \n",
      "\n",
      "                              Volume  \n",
      "Date                                  \n",
      "2023-07-10 00:00:00-04:00  119425400  \n",
      "2023-07-11 00:00:00-04:00   91972400  \n",
      "2023-07-12 00:00:00-04:00   95672100  \n",
      "2023-07-13 00:00:00-04:00  112681500  \n",
      "2023-07-14 00:00:00-04:00  119771100  \n"
     ]
    }
   ],
   "source": [
    "# use data as index instead\n",
    "hist = hist.set_index('Date')\n",
    "print(hist)"
   ]
  },
  {
   "cell_type": "code",
   "execution_count": 67,
   "metadata": {},
   "outputs": [
    {
     "name": "stdout",
     "output_type": "stream",
     "text": [
      "       Salary\n",
      "Empno        \n",
      "9001     3000\n",
      "9002     2800\n",
      "9003     2500\n"
     ]
    }
   ],
   "source": [
    "# How to convert json into pandas obj\n",
    "import json\n",
    "import pandas as pd\n",
    "data = [ \n",
    "    {\"Empno\":9001,\"Salary\":3000}, \n",
    "    {\"Empno\":9002,\"Salary\":2800}, \n",
    "    {\"Empno\":9003,\"Salary\":2500}\n",
    "    ]\n",
    "\n",
    "json_data = json.dumps(data) # convert json into string from list,  can use actual json file or URL instead\n",
    "salary = pd.read_json(json_data)\n",
    "salary = salary.set_index(\"Empno\")\n",
    "print(salary)"
   ]
  },
  {
   "cell_type": "code",
   "execution_count": 70,
   "metadata": {},
   "outputs": [
    {
     "name": "stdout",
     "output_type": "stream",
     "text": [
      "               Name    Job\n",
      "Empno                     \n",
      "9001   Jeff Russell  sales\n",
      "9002   Jane Boorman  sales\n",
      "9003     Tom Heints  sales\n"
     ]
    }
   ],
   "source": [
    "# Create dataframe from list of lists (2D array)\n",
    "\n",
    "import pandas as pd\n",
    "data = [\n",
    "    ['9001','Jeff Russell', 'sales'],\n",
    "    ['9002','Jane Boorman', 'sales'],\n",
    "    ['9003','Tom Heints', 'sales']\n",
    " ]\n",
    "emps = pd.DataFrame(data, columns = ['Empno', 'Name', 'Job'])\n",
    "column_types = {'Empno': int, 'Name': str, 'Job': str}\n",
    "emps = emps.astype(column_types)\n",
    "emps = emps.set_index('Empno')\n",
    "print(emps)\n"
   ]
  },
  {
   "cell_type": "code",
   "execution_count": null,
   "metadata": {},
   "outputs": [],
   "source": []
  }
 ],
 "metadata": {
  "kernelspec": {
   "display_name": "Python 3",
   "language": "python",
   "name": "python3"
  },
  "language_info": {
   "codemirror_mode": {
    "name": "ipython",
    "version": 3
   },
   "file_extension": ".py",
   "mimetype": "text/x-python",
   "name": "python",
   "nbconvert_exporter": "python",
   "pygments_lexer": "ipython3",
   "version": "3.11.0"
  },
  "orig_nbformat": 4
 },
 "nbformat": 4,
 "nbformat_minor": 2
}
