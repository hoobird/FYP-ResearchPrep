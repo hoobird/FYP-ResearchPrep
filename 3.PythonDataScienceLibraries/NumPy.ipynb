{
 "cells": [
  {
   "cell_type": "markdown",
   "metadata": {},
   "source": [
    "### NumPy, or the Numeric Python library, is useful for working with arrays, which are data structures that store values of the same data type.\n",
    "### NumPy arrays are similar to Python lists except that they require less memory and are usually faster because they use optimized, precompiled C code.\n",
    "### Also supports element wise operations -> [1,2,3] + [3,2,1] = [4, 4, 4]"
   ]
  },
  {
   "cell_type": "code",
   "execution_count": 3,
   "metadata": {},
   "outputs": [],
   "source": [
    "import numpy as np"
   ]
  },
  {
   "cell_type": "code",
   "execution_count": 4,
   "metadata": {},
   "outputs": [
    {
     "name": "stdout",
     "output_type": "stream",
     "text": [
      "[[2700 3000 3000]\n",
      " [1000 1200 1400]\n",
      " [2200 3100 3300]]\n"
     ]
    }
   ],
   "source": [
    "jeff_salary = [2700, 3000, 3000]\n",
    "nick_salary = [1000, 1200, 1400]\n",
    "tom_salary = [2200, 3100, 3300]\n",
    "\n",
    "base_salary = np.array([jeff_salary, nick_salary, tom_salary])\n",
    "print(base_salary)"
   ]
  },
  {
   "cell_type": "code",
   "execution_count": 5,
   "metadata": {},
   "outputs": [
    {
     "name": "stdout",
     "output_type": "stream",
     "text": [
      "<class 'numpy.ndarray'>\n",
      "[[3200 3400 3400]\n",
      " [1600 1500 1800]\n",
      " [2400 3600 3700]]\n"
     ]
    }
   ],
   "source": [
    "jeff_bonus = [500,400,400]\n",
    "nick_bonus = [600,300,400]\n",
    "tom_bonus = [200,500,400]\n",
    "bonus = np.array([jeff_bonus, nick_bonus, tom_bonus])\n",
    "\n",
    "salary_bonus = base_salary + bonus\n",
    "print(type(salary_bonus))\n",
    "print(salary_bonus)"
   ]
  },
  {
   "cell_type": "code",
   "execution_count": 6,
   "metadata": {},
   "outputs": [
    {
     "name": "stdout",
     "output_type": "stream",
     "text": [
      "3700\n"
     ]
    }
   ],
   "source": [
    "# Print max of the whole numpy array\n",
    "print(salary_bonus.max())"
   ]
  },
  {
   "cell_type": "code",
   "execution_count": 7,
   "metadata": {},
   "outputs": [
    {
     "name": "stdout",
     "output_type": "stream",
     "text": [
      "[3400 1800 3700]\n"
     ]
    }
   ],
   "source": [
    "# find max in each horizontal axis (1) \n",
    "print(np.amax(salary_bonus, axis = 1))"
   ]
  },
  {
   "cell_type": "code",
   "execution_count": 8,
   "metadata": {},
   "outputs": [
    {
     "name": "stdout",
     "output_type": "stream",
     "text": [
      "[3200 3600 3700]\n"
     ]
    }
   ],
   "source": [
    "# find max in each vertical axis (0) \n",
    "print(np.amax(salary_bonus, axis = 0))"
   ]
  },
  {
   "cell_type": "code",
   "execution_count": 9,
   "metadata": {},
   "outputs": [
    {
     "name": "stdout",
     "output_type": "stream",
     "text": [
      "[3400. 1600. 3600.]\n"
     ]
    }
   ],
   "source": [
    "# find median in each horizontal axis (1)\n",
    "print(np.median(salary_bonus, axis = 1))"
   ]
  },
  {
   "cell_type": "code",
   "execution_count": 10,
   "metadata": {},
   "outputs": [
    {
     "name": "stdout",
     "output_type": "stream",
     "text": [
      "[3333.33333333 1633.33333333 3233.33333333]\n"
     ]
    }
   ],
   "source": [
    "# find average in each horizontal axis (1)\n",
    "print(np.average(salary_bonus, axis = 1))"
   ]
  }
 ],
 "metadata": {
  "kernelspec": {
   "display_name": "Python 3",
   "language": "python",
   "name": "python3"
  },
  "language_info": {
   "codemirror_mode": {
    "name": "ipython",
    "version": 3
   },
   "file_extension": ".py",
   "mimetype": "text/x-python",
   "name": "python",
   "nbconvert_exporter": "python",
   "pygments_lexer": "ipython3",
   "version": "3.11.0"
  },
  "orig_nbformat": 4
 },
 "nbformat": 4,
 "nbformat_minor": 2
}
