{
 "cells": [
  {
   "cell_type": "markdown",
   "metadata": {},
   "source": [
    "### Importing Data Using Python’s open() Function"
   ]
  },
  {
   "cell_type": "code",
   "execution_count": 3,
   "metadata": {},
   "outputs": [
    {
     "name": "stdout",
     "output_type": "stream",
     "text": [
      "Today, robots can talk to humans using natural language, and theyâ€™re getting smarter. Even so, very few people understand how these robots work or how they might use these technologies in their own projects.\n",
      "\n",
      "Natural language processing (NLP) â€“ a branch of artificial intelligence that helps machines understand and respond to human language â€“ is the key technology that lies at the heart of any digital assistant product.\n"
     ]
    }
   ],
   "source": [
    "# use open() function\n",
    "\n",
    "# text file (txt)\n",
    "path = \"./textfiles/excerpt.txt\"\n",
    "with open(path, \"r\") as f:\n",
    "    content = f.read()\n",
    "print(content)\n",
    "\n"
   ]
  },
  {
   "cell_type": "code",
   "execution_count": 4,
   "metadata": {},
   "outputs": [
    {
     "name": "stdout",
     "output_type": "stream",
     "text": [
      "Line: 0, Today, robots can talk to humans using natural language, and theyâ€™re getting smarter. Even so, very few people understand how these robots work or how they might use these technologies in their own projects.\n",
      "Line: 2, Natural language processing (NLP) â€“ a branch of artificial intelligence that helps machines understand and respond to human language â€“ is the key technology that lies at the heart of any digital assistant product.\n"
     ]
    }
   ],
   "source": [
    "# print only non-empty lines and get line no\n",
    "with open(path, \"r\") as f:\n",
    "    for i, line in enumerate(f):    # enumerate add line no to each line\n",
    "        if line.strip():\n",
    "            print(f\"Line: {i}, {line.strip()}\")"
   ]
  },
  {
   "cell_type": "code",
   "execution_count": 7,
   "metadata": {},
   "outputs": [
    {
     "name": "stdout",
     "output_type": "stream",
     "text": [
      "[\"Today, robots can talk to humans using natural language, and they're getting smarter. Even so, very few people understand how these robots work or how they might use these technologies in their own projects.\", 'Natural language processing (NLP) â€“ a branch of artificial intelligence that helps machines understand and respond to human language â€“ is the key technology that lies at the heart of any digital assistant product.']\n"
     ]
    }
   ],
   "source": [
    "# Rather than print the lines, you can send them to a list by using a list comprehension\n",
    "with open(path,\"r\") as f:  \n",
    "    lst = [line.strip() for line in f if line.strip()]\n",
    "\n",
    "print(lst)"
   ]
  },
  {
   "cell_type": "markdown",
   "metadata": {},
   "source": [
    "### Tabular Data Files\n",
    "### tabular data file is a file in which the data is structured into rows"
   ]
  },
  {
   "cell_type": "code",
   "execution_count": 18,
   "metadata": {},
   "outputs": [
    {
     "name": "stdout",
     "output_type": "stream",
     "text": [
      "[{'Make': 'Ford', 'Model': 'E350', 'Price': '3200.00', 'Year': '1997'},\n",
      " {'Make': 'Chevy', 'Model': 'Venture', 'Price': '4800.00', 'Year': '1999'},\n",
      " {'Make': 'Jeep',\n",
      "  'Model': 'Grand Cherokee',\n",
      "  'Price': '4900.00',\n",
      "  'Year': '1996'}]\n"
     ]
    }
   ],
   "source": [
    "# here comes CSV files\n",
    "import csv\n",
    "from pprint import pprint\n",
    "path = \"./csvfiles/cars.csv\"\n",
    "with open(path, \"r\") as csv_file:\n",
    "    csv_reader = csv.DictReader(csv_file)\n",
    "    cars = []\n",
    "    for row in csv_reader:\n",
    "        cars.append(dict(row))\n",
    "pprint(cars)"
   ]
  },
  {
   "cell_type": "code",
   "execution_count": 20,
   "metadata": {},
   "outputs": [
    {
     "name": "stdout",
     "output_type": "stream",
     "text": [
      "[['Year', 'Make', 'Model', 'Price'], ['1997', 'Ford', 'E350', '3200.00'], ['1999', 'Chevy', 'Venture', '4800.00'], ['1996', 'Jeep', 'Grand Cherokee', '4900.00']]\n"
     ]
    }
   ],
   "source": [
    "# alternatively, other than csv.dictreader, can use csv.reader\n",
    "import csv\n",
    "path = \"./csvfiles/cars.csv\"\n",
    "with open(path, \"r\") as csv_file:\n",
    "    csv_reader = csv.reader(csv_file)\n",
    "    cars = []\n",
    "    for row in csv_reader:\n",
    "        cars.append(row)\n",
    "print(cars)"
   ]
  },
  {
   "cell_type": "code",
   "execution_count": 25,
   "metadata": {},
   "outputs": [
    {
     "name": "stdout",
     "output_type": "stream",
     "text": [
      "Year: 1997\n",
      "Make: Ford\n",
      "Model: E350\n",
      "Price: 3200.00\n",
      "\n",
      "Year: 1999\n",
      "Make: Chevy\n",
      "Model: Venture\n",
      "Price: 4800.00\n",
      "\n",
      "Year: 1996\n",
      "Make: Jeep\n",
      "Model: Grand Cherokee\n",
      "Price: 4900.00\n",
      "\n"
     ]
    }
   ],
   "source": [
    "# json file (exercise 5)\n",
    "import json\n",
    "path = path = \"./jsonfiles/cars.json\"\n",
    "with open(path) as json_file:\n",
    "    json_reader = json.load(json_file)\n",
    "    for car in json_reader[\"cars\"]:\n",
    "        for key in car:\n",
    "            print(f\"{key}: {car[key]}\")\n",
    "        print()"
   ]
  },
  {
   "cell_type": "code",
   "execution_count": 28,
   "metadata": {},
   "outputs": [
    {
     "name": "stdout",
     "output_type": "stream",
     "text": [
      "bytes: 111483\n"
     ]
    }
   ],
   "source": [
    "# Binary Files\n",
    "# executable (.exe) and image files (.jpeg, .bmp, and so on), which contain data in binary format, represented as a sequence of bytes. \n",
    "# Since these bytes are typically intended to be interpreted as something other than text characters, \n",
    "#   you can’t open a binary file in text mode to access and manipulate its content. \n",
    "# Instead, you must use the open() function’s binary mode.\n",
    "\n",
    "image = \"./binaryfiles/bentley.jpg\"\n",
    "\n",
    "with open(image,\"rb\") as image_file:\n",
    "    content = image_file.read()\n",
    "print(f\"bytes: {len(content)}\")"
   ]
  },
  {
   "cell_type": "code",
   "execution_count": null,
   "metadata": {},
   "outputs": [],
   "source": []
  }
 ],
 "metadata": {
  "kernelspec": {
   "display_name": "Python 3",
   "language": "python",
   "name": "python3"
  },
  "language_info": {
   "codemirror_mode": {
    "name": "ipython",
    "version": 3
   },
   "file_extension": ".py",
   "mimetype": "text/x-python",
   "name": "python",
   "nbconvert_exporter": "python",
   "pygments_lexer": "ipython3",
   "version": "3.11.0"
  },
  "orig_nbformat": 4
 },
 "nbformat": 4,
 "nbformat_minor": 2
}
